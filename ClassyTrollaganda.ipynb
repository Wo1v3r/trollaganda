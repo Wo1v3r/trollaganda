{
 "cells": [
  {
   "cell_type": "code",
   "execution_count": null,
   "metadata": {
    "collapsed": true
   },
   "outputs": [],
   "source": [
    "# imports\n",
    "from embedding import ReadFile, PreProcess, PrepareEmbedding\n",
    "from model import TheModel\n",
    "from predictor import Predictor\n",
    "import config\n"
   ]
  },
  {
   "cell_type": "code",
   "execution_count": null,
   "metadata": {},
   "outputs": [],
   "source": [
    "# read File\n",
    "readfile = ReadFile(path=\"./output.csv\", split=config.SPLITDATA)\n",
    "readfile.readfile()\n",
    "readfile.distribution_plot()"
   ]
  },
  {
   "cell_type": "code",
   "execution_count": null,
   "metadata": {},
   "outputs": [],
   "source": [
    "# preprocess Data\n",
    "pre_proc = PreProcess(data=readfile.data, textfield=\"message\")\n",
    "pre_proc.process_text()\n",
    "pre_proc.see_data_head()"
   ]
  },
  {
   "cell_type": "code",
   "execution_count": null,
   "metadata": {},
   "outputs": [],
   "source": [
    "# embedding\n",
    "embed = PrepareEmbedding(\n",
    "    X=readfile.data.message,\n",
    "    Y=readfile.data.isTroll,\n",
    "    embedded_path=\"./GoogleNews-vectors-negative300.bin.gz\"\n",
    ")\n",
    "embed.print_info()\n",
    "embed.load_word_2_vec()\n",
    "embed.train()\n",
    "embed.release_pre_trained()"
   ]
  },
  {
   "cell_type": "code",
   "execution_count": null,
   "metadata": {},
   "outputs": [],
   "source": [
    "# model creation\n",
    "model = TheModel()\n",
    "model.conv_net(\n",
    "    embeddings=embed.train_embedding_weights,\n",
    "    max_sequence_length=config.MAXSEQLENGTH,\n",
    "    num_words=len(embed.train_word_index) + 1,\n",
    "    embedding_dim=config.EMBEDDINGDIM,\n",
    "    trainable=False\n",
    ")"
   ]
  },
  {
   "cell_type": "code",
   "execution_count": null,
   "metadata": {},
   "outputs": [],
   "source": [
    "# model training\n",
    "model.train_model(\n",
    "    traincnndata=embed.train_cnn_data,\n",
    "    Y_train=embed.Y_train,\n",
    "    epochs=config.EPOCHS,\n",
    "    batch_size=config.BATCHSIZE\n",
    ")"
   ]
  },
  {
   "cell_type": "code",
   "execution_count": null,
   "metadata": {},
   "outputs": [],
   "source": [
    "# model evaluation\n",
    "model.evaluate_model(test_cnn_data=embed.test_cnn_data, Y_test=embed.Y_test)\n"
   ]
  },
  {
   "cell_type": "code",
   "execution_count": null,
   "metadata": {},
   "outputs": [],
   "source": [
    "# prediction\n",
    "predictor = Predictor(model = model, embed = embed)\n",
    "predictor.predict(messages=[\"Some message @ https://google.com where @liran23 said he wants to read it\", \"Yossi is the man and he loves to post links online\"])"
   ]
  }
 ],
 "metadata": {
  "kernelspec": {
   "display_name": "Python 2",
   "language": "python",
   "name": "python2"
  },
  "language_info": {
   "codemirror_mode": {
    "name": "ipython",
    "version": 2
   },
   "file_extension": ".py",
   "mimetype": "text/x-python",
   "name": "python",
   "nbconvert_exporter": "python",
   "pygments_lexer": "ipython2",
   "version": "2.7.6"
  }
 },
 "nbformat": 4,
 "nbformat_minor": 0
}
