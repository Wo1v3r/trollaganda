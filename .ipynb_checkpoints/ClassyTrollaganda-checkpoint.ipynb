{
 "cells": [
  {
   "cell_type": "code",
   "execution_count": 5,
   "metadata": {},
   "outputs": [],
   "source": [
    "# imports\n",
    "from importlib import reload\n",
    "from embedding import ReadFile, PreProcess, PrepareEmbedding\n",
    "from model import TheModel\n",
    "import config\n",
    "import predictor\n"
   ]
  },
  {
   "cell_type": "code",
   "execution_count": 6,
   "metadata": {},
   "outputs": [],
   "source": [
    "# reload imports in case of changes \n",
    "# add here module imports that you want to change lively in jupyter notebook\n",
    "Predictor = reload(predictor).Predictor"
   ]
  },
  {
   "cell_type": "code",
   "execution_count": 2,
   "metadata": {},
   "outputs": [
    {
     "data": {
      "image/png": "[encoded data removed]",
      "text/plain": [
       "<Figure size 432x288 with 1 Axes>"
      ]
     },
     "metadata": {
      "needs_background": "light"
     },
     "output_type": "display_data"
    }
   ],
   "source": [
    "# read File\n",
    "readfile = ReadFile(path=\"./output.csv\", split=1000)\n",
    "readfile.readfile()\n",
    "readfile.distribution_plot()"
   ]
  },
  {
   "cell_type": "code",
   "execution_count": 3,
   "metadata": {},
   "outputs": [],
   "source": [
    "# preprocess Data\n",
    "pre_proc = PreProcess(data=readfile.data, textfield=\"message\")\n",
    "pre_proc.process_text()\n",
    "pre_proc.see_data_head()"
   ]
  },
  {
   "cell_type": "code",
   "execution_count": 4,
   "metadata": {},
   "outputs": [
    {
     "name": "stdout",
     "output_type": "stream",
     "text": [
      "Total: 70955 words, vocabulary size of 12561\n",
      "Max sentence length is 24\n",
      "Loading W2V\n",
      "W2V Loaded\n",
      "Found 12561 unique tokens.\n"
     ]
    }
   ],
   "source": [
    "# embedding\n",
    "embed = PrepareEmbedding(\n",
    "    X=readfile.data.message,\n",
    "    Y=readfile.data.isTroll,\n",
    "    embedded_path=\"./GoogleNews-vectors-negative300.bin.gz\"\n",
    ")\n",
    "embed.print_info()\n",
    "embed.load_word_2_vec()\n",
    "embed.train()\n",
    "embed.release_pre_trained()"
   ]
  },
  {
   "cell_type": "code",
   "execution_count": 5,
   "metadata": {},
   "outputs": [
    {
     "name": "stdout",
     "output_type": "stream",
     "text": [
      "WARNING:tensorflow:From /Users/jonathanl/PycharmProjects/trollaganda/venv/lib/python3.6/site-packages/tensorflow/python/framework/op_def_library.py:263: colocate_with (from tensorflow.python.framework.ops) is deprecated and will be removed in a future version.\n",
      "Instructions for updating:\n",
      "Colocations handled automatically by placer.\n",
      "WARNING:tensorflow:From /Users/jonathanl/PycharmProjects/trollaganda/venv/lib/python3.6/site-packages/keras/backend/tensorflow_backend.py:3445: calling dropout (from tensorflow.python.ops.nn_ops) with keep_prob is deprecated and will be removed in a future version.\n",
      "Instructions for updating:\n",
      "Please use `rate` instead of `keep_prob`. Rate should be set to `rate = 1 - keep_prob`.\n",
      "__________________________________________________________________________________________________\n",
      "Layer (type)                    Output Shape         Param #     Connected to                     \n",
      "==================================================================================================\n",
      "input_1 (InputLayer)            (None, 200)          0                                            \n",
      "__________________________________________________________________________________________________\n",
      "embedding_1 (Embedding)         (None, 200, 300)     3768600     input_1[0][0]                    \n",
      "__________________________________________________________________________________________________\n",
      "conv1d_1 (Conv1D)               (None, 198, 128)     115328      embedding_1[0][0]                \n",
      "__________________________________________________________________________________________________\n",
      "conv1d_2 (Conv1D)               (None, 197, 128)     153728      embedding_1[0][0]                \n",
      "__________________________________________________________________________________________________\n",
      "conv1d_3 (Conv1D)               (None, 196, 128)     192128      embedding_1[0][0]                \n",
      "__________________________________________________________________________________________________\n",
      "max_pooling1d_1 (MaxPooling1D)  (None, 66, 128)      0           conv1d_1[0][0]                   \n",
      "__________________________________________________________________________________________________\n",
      "max_pooling1d_2 (MaxPooling1D)  (None, 65, 128)      0           conv1d_2[0][0]                   \n",
      "__________________________________________________________________________________________________\n",
      "max_pooling1d_3 (MaxPooling1D)  (None, 65, 128)      0           conv1d_3[0][0]                   \n",
      "__________________________________________________________________________________________________\n",
      "concatenate_1 (Concatenate)     (None, 196, 128)     0           max_pooling1d_1[0][0]            \n",
      "                                                                 max_pooling1d_2[0][0]            \n",
      "                                                                 max_pooling1d_3[0][0]            \n",
      "__________________________________________________________________________________________________\n",
      "dropout_1 (Dropout)             (None, 196, 128)     0           concatenate_1[0][0]              \n",
      "__________________________________________________________________________________________________\n",
      "flatten_1 (Flatten)             (None, 25088)        0           dropout_1[0][0]                  \n",
      "__________________________________________________________________________________________________\n",
      "dense_1 (Dense)                 (None, 128)          3211392     flatten_1[0][0]                  \n",
      "__________________________________________________________________________________________________\n",
      "dropout_2 (Dropout)             (None, 128)          0           dense_1[0][0]                    \n",
      "__________________________________________________________________________________________________\n",
      "dense_2 (Dense)                 (None, 1)            129         dropout_2[0][0]                  \n",
      "==================================================================================================\n",
      "Total params: 7,441,305\n",
      "Trainable params: 3,672,705\n",
      "Non-trainable params: 3,768,600\n",
      "__________________________________________________________________________________________________\n"
     ]
    }
   ],
   "source": [
    "# model creation\n",
    "model = TheModel()\n",
    "model.conv_net(\n",
    "    embeddings=embed.train_embedding_weights,\n",
    "    max_sequence_length=config.MAXSEQLENGTH,\n",
    "    num_words=len(embed.train_word_index) + 1,\n",
    "    embedding_dim=config.EMBEDDINGDIM,\n",
    "    trainable=False\n",
    ")"
   ]
  },
  {
   "cell_type": "code",
   "execution_count": 6,
   "metadata": {},
   "outputs": [
    {
     "name": "stdout",
     "output_type": "stream",
     "text": [
      "Training the Model\n",
      "WARNING:tensorflow:From /Users/jonathanl/PycharmProjects/trollaganda/venv/lib/python3.6/site-packages/tensorflow/python/ops/math_ops.py:3066: to_int32 (from tensorflow.python.ops.math_ops) is deprecated and will be removed in a future version.\n",
      "Instructions for updating:\n",
      "Use tf.cast instead.\n",
      "Train on 7650 samples, validate on 850 samples\n",
      "Epoch 1/3\n",
      "7650/7650 [==============================] - 32s 4ms/step - loss: 0.4305 - acc: 0.8065 - val_loss: 0.3885 - val_acc: 0.7882\n",
      "Epoch 2/3\n",
      "7650/7650 [==============================] - 33s 4ms/step - loss: 0.3260 - acc: 0.8295 - val_loss: 0.3443 - val_acc: 0.8576\n",
      "Epoch 3/3\n",
      "7650/7650 [==============================] - 31s 4ms/step - loss: 0.2823 - acc: 0.8698 - val_loss: 0.3267 - val_acc: 0.8659\n"
     ]
    }
   ],
   "source": [
    "# model training\n",
    "model.train_model(\n",
    "    traincnndata=embed.train_cnn_data,\n",
    "    Y_train=embed.Y_train,\n",
    "    epochs=config.EPOCHS,\n",
    "    batch_size=config.BATCHSIZE\n",
    ")"
   ]
  },
  {
   "cell_type": "code",
   "execution_count": 7,
   "metadata": {},
   "outputs": [
    {
     "name": "stdout",
     "output_type": "stream",
     "text": [
      "1500/1500 [==============================] - 2s 1ms/step\n",
      "Test set\n",
      "  Loss: 0.358\n",
      "  Accuracy: 0.842\n"
     ]
    }
   ],
   "source": [
    "# model evaluation\n",
    "model.evaluate_model(test_cnn_data=embed.test_cnn_data, Y_test=embed.Y_test)\n"
   ]
  },
  {
   "cell_type": "code",
   "execution_count": 7,
   "metadata": {},
   "outputs": [
    {
     "ename": "NameError",
     "evalue": "name 'model' is not defined",
     "traceback": [
      "\u001b[0;31m---------------------------------------------------------------------------\u001b[0m",
      "\u001b[0;31mNameError\u001b[0m                                 Traceback (most recent call last)",
      "\u001b[0;32m<ipython-input-7-eb3dbfa7850a>\u001b[0m in \u001b[0;36m<module>\u001b[0;34m\u001b[0m\n\u001b[1;32m      1\u001b[0m \u001b[0;31m# prediction\u001b[0m\u001b[0;34m\u001b[0m\u001b[0;34m\u001b[0m\u001b[0m\n\u001b[0;32m----> 2\u001b[0;31m \u001b[0mpredictor\u001b[0m \u001b[0;34m=\u001b[0m \u001b[0mPredictor\u001b[0m\u001b[0;34m(\u001b[0m\u001b[0mmodel\u001b[0m \u001b[0;34m=\u001b[0m \u001b[0mmodel\u001b[0m\u001b[0;34m,\u001b[0m \u001b[0membed\u001b[0m \u001b[0;34m=\u001b[0m \u001b[0membed\u001b[0m\u001b[0;34m)\u001b[0m\u001b[0;34m\u001b[0m\u001b[0m\n\u001b[0m\u001b[1;32m      3\u001b[0m \u001b[0mpredictor\u001b[0m\u001b[0;34m.\u001b[0m\u001b[0mpredict\u001b[0m\u001b[0;34m(\u001b[0m\u001b[0mmessages\u001b[0m\u001b[0;34m=\u001b[0m\u001b[0;34m[\u001b[0m\u001b[0;34m\"Some message @ https://google.com where @liran23 said he wants to read it\"\u001b[0m\u001b[0;34m,\u001b[0m \u001b[0;34m\"Yossi is the man and he loves to post links online\"\u001b[0m\u001b[0;34m]\u001b[0m\u001b[0;34m)\u001b[0m\u001b[0;34m\u001b[0m\u001b[0m\n",
      "\u001b[0;31mNameError\u001b[0m: name 'model' is not defined"
     ],
     "output_type": "error"
    }
   ],
   "source": [
    "# prediction\n",
    "predictor = Predictor(model = model, embed = embed)\n",
    "predictor.predict(messages=[\"Some message @ https://google.com where @liran23 said he wants to read it\", \"Yossi is the man and he loves to post links online\"])"
   ]
  },
  {
   "cell_type": "code",
   "execution_count": null,
   "metadata": {},
   "outputs": [],
   "source": []
  }
 ],
 "metadata": {
  "kernelspec": {
   "display_name": "Python 3",
   "language": "python",
   "name": "python3"
  },
  "language_info": {
   "codemirror_mode": {
    "name": "ipython",
    "version": 3
   },
   "file_extension": ".py",
   "mimetype": "text/x-python",
   "name": "python",
   "nbconvert_exporter": "python",
   "pygments_lexer": "ipython3",
   "version": "3.6.5"
  }
 },
 "nbformat": 4,
 "nbformat_minor": 1
}
