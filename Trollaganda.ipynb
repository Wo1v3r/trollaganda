{
 "cells": [
  {
   "cell_type": "code",
   "execution_count": 1,
   "metadata": {
    "_cell_guid": "b1076dfc-b9ad-4769-8c92-a6c4dae69d19",
    "_uuid": "8f2839f25d086af736a60e9eeb907d3b93b6e0e5",
    "scrolled": false
   },
   "outputs": [
    {
     "name": "stderr",
     "output_type": "stream",
     "text": [
      "Using TensorFlow backend.\n"
     ]
    }
   ],
   "source": [
    "#IMPORTING ALL THE REQUIRED PACKAGES.\n",
    "import numpy as np \n",
    "import pandas as pd \n",
    "import matplotlib.pyplot as plt\n",
    "from subprocess import check_output\n",
    "import gensim\n",
    "import nltk\n",
    "from nltk.corpus import stopwords\n",
    "from nltk.tokenize import RegexpTokenizer\n",
    "import os\n",
    "import re\n",
    "import codecs\n",
    "import keras\n",
    "import seaborn as sns\n",
    "import zipfile\n",
    "from keras.models import Model\n",
    "from keras.models import model_from_json\n",
    "from keras.preprocessing.text import Tokenizer\n",
    "from keras.preprocessing.sequence import pad_sequences\n",
    "from keras.utils import to_categorical\n",
    "from keras.layers import Conv1D, MaxPooling1D, Embedding\n",
    "from keras.layers import LSTM, Bidirectional\n",
    "from keras.layers import Dense, Input, Flatten, Dropout, Concatenate\n",
    "from keras.callbacks import EarlyStopping\n",
    "from sklearn.preprocessing import LabelEncoder\n",
    "from sklearn.model_selection import train_test_split\n",
    "\n"
   ]
  },
  {
   "cell_type": "code",
   "execution_count": 2,
   "metadata": {},
   "outputs": [
    {
     "name": "stderr",
     "output_type": "stream",
     "text": [
      "[nltk_data] Downloading package stopwords to\n",
      "[nltk_data]     /Users/jonathanl/nltk_data...\n",
      "[nltk_data]   Package stopwords is already up-to-date!\n"
     ]
    },
    {
     "data": {
      "text/plain": [
       "True"
      ]
     },
     "execution_count": 2,
     "metadata": {},
     "output_type": "execute_result"
    }
   ],
   "source": [
    "#Download Stuff\n",
    "nltk.download('stopwords')\n",
    "\n"
   ]
  },
  {
   "cell_type": "code",
   "execution_count": 3,
   "metadata": {},
   "outputs": [],
   "source": [
    "if not os.path.isfile('./output.csv'):\n",
    "    zip_ref = zipfile.ZipFile('./troll-or-not.zip', 'r')\n",
    "    zip_ref.extractall('./')\n",
    "    zip_ref.close()\n",
    "    \n",
    "if not os.path.isfile('./GoogleNews-vectors-negative300.bin.gz'):\n",
    "    zip_ref = zipfile.ZipFile('./googles-trained-word2vec-model-in-python.zip', 'r')\n",
    "    zip_ref.extractall('./')\n",
    "    zip_ref.close()\n"
   ]
  },
  {
   "cell_type": "code",
   "execution_count": 4,
   "metadata": {},
   "outputs": [],
   "source": [
    "stopwords0 = set(stopwords.words('english'))"
   ]
  },
  {
   "cell_type": "code",
   "execution_count": 5,
   "metadata": {
    "_cell_guid": "79c7e3d0-c299-4dcb-8224-4455121ee9b0",
    "_uuid": "d629ff2d2480ee46fbb7e2d37f6b5fab8052498a"
   },
   "outputs": [],
   "source": [
    "#SETTING GLOBAL VARIABLES\n",
    "EMBEDDINGDIM = 300\n",
    "MAXVOCABSIZE = 175303 \n",
    "MAXSEQLENGTH = 200 \n",
    "batchsize = 256 \n",
    "epochs = 3\n",
    "FROM_JSON = False"
   ]
  },
  {
   "cell_type": "code",
   "execution_count": 39,
   "metadata": {
    "_uuid": "9076a1eab4a4923b85bc06d86ee4b8c891934d68"
   },
   "outputs": [
    {
     "name": "stdout",
     "output_type": "stream",
     "text": [
      "link said that tag is a little bitch\n"
     ]
    }
   ],
   "source": [
    "#CLEANING UP THE TEXT\n",
    "#Function to clean up the text\n",
    "\n",
    "def standardizeText(text):\n",
    "    text = text.str.replace(r\"http\\S+\", \"LINK\")\n",
    "    text = text.str.replace(r\"@\\S+\", \"TAG\")\n",
    "    text = text.str.replace(r\"[^A-Za-z0-9(),!?@\\'\\`\\\"\\_\\n]\", \" \")\n",
    "    text = text.str.replace(r\"@\", \"AT \")\n",
    "    text = text.str.lower()\n",
    "    return text"
   ]
  },
  {
   "cell_type": "code",
   "execution_count": 49,
   "metadata": {
    "_uuid": "c460c348800f37e20a449de7ebc5d7b6730cf7aa"
   },
   "outputs": [
    {
     "data": {
      "text/html": [
       "<div>\n",
       "<style scoped>\n",
       "    .dataframe tbody tr th:only-of-type {\n",
       "        vertical-align: middle;\n",
       "    }\n",
       "\n",
       "    .dataframe tbody tr th {\n",
       "        vertical-align: top;\n",
       "    }\n",
       "\n",
       "    .dataframe thead th {\n",
       "        text-align: right;\n",
       "    }\n",
       "</style>\n",
       "<table border=\"1\" class=\"dataframe\">\n",
       "  <thead>\n",
       "    <tr style=\"text-align: right;\">\n",
       "      <th></th>\n",
       "      <th>message</th>\n",
       "      <th>isTroll</th>\n",
       "    </tr>\n",
       "  </thead>\n",
       "  <tbody>\n",
       "    <tr>\n",
       "      <th>0</th>\n",
       "      <td>\"we have a sitting democrat us senator on tria...</td>\n",
       "      <td>1</td>\n",
       "    </tr>\n",
       "    <tr>\n",
       "      <th>1</th>\n",
       "      <td>marshawn lynch arrives to game in anti trump s...</td>\n",
       "      <td>1</td>\n",
       "    </tr>\n",
       "    <tr>\n",
       "      <th>2</th>\n",
       "      <td>daughter of fallen navy sailor delivers powerf...</td>\n",
       "      <td>1</td>\n",
       "    </tr>\n",
       "    <tr>\n",
       "      <th>3</th>\n",
       "      <td>just in  president trump dedicates presidents ...</td>\n",
       "      <td>1</td>\n",
       "    </tr>\n",
       "    <tr>\n",
       "      <th>4</th>\n",
       "      <td>19,000 respecting our national anthem!  standf...</td>\n",
       "      <td>1</td>\n",
       "    </tr>\n",
       "  </tbody>\n",
       "</table>\n",
       "</div>"
      ],
      "text/plain": [
       "                                             message  isTroll\n",
       "0  \"we have a sitting democrat us senator on tria...        1\n",
       "1  marshawn lynch arrives to game in anti trump s...        1\n",
       "2  daughter of fallen navy sailor delivers powerf...        1\n",
       "3  just in  president trump dedicates presidents ...        1\n",
       "4  19,000 respecting our national anthem!  standf...        1"
      ]
     },
     "execution_count": 49,
     "metadata": {},
     "output_type": "execute_result"
    }
   ],
   "source": [
    "df = pd.read_csv('./output.csv',delimiter=',',encoding='utf8',names=[\"message\", \"isTroll\"])\n",
    "df.message = df.message.astype(str)\n",
    "\n",
    "df = df.iloc[:10000]\n",
    "\n",
    "df.message = standardizeText(df.message)\n",
    "df.head()"
   ]
  },
  {
   "cell_type": "code",
   "execution_count": 8,
   "metadata": {
    "_uuid": "17e12ac79eb36e3c8622b879f9ac536bafbafe0d"
   },
   "outputs": [
    {
     "data": {
      "text/plain": [
       "Text(0.5, 1.0, 'Number of troll or not messages')"
      ]
     },
     "execution_count": 8,
     "metadata": {},
     "output_type": "execute_result"
    },
    {
     "data": {
      "image/png": "[encoded data removed]",
      "text/plain": [
       "<Figure size 432x288 with 1 Axes>"
      ]
     },
     "metadata": {
      "needs_background": "light"
     },
     "output_type": "display_data"
    }
   ],
   "source": [
    "#Understand the distribution better\n",
    "sns.countplot(df.isTroll)\n",
    "plt.xlabel('Label')\n",
    "plt.title('Number of troll or not messages')\n"
   ]
  },
  {
   "cell_type": "code",
   "execution_count": 28,
   "metadata": {
    "_uuid": "f4e39a2748467ab03ee4cfc2423bdd54cb87f5a1"
   },
   "outputs": [
    {
     "name": "stdout",
     "output_type": "stream",
     "text": [
      "<class 'pandas.core.series.Series'>\n"
     ]
    }
   ],
   "source": [
    "X = df.message\n",
    "Y = df.isTroll\n",
    "le = LabelEncoder()\n",
    "Y = le.fit_transform(Y)\n",
    "Y = Y.reshape(-1,1)"
   ]
  },
  {
   "cell_type": "code",
   "execution_count": 10,
   "metadata": {
    "_uuid": "412e30bf594fc895b8cb9fb1448522715e523961"
   },
   "outputs": [],
   "source": [
    "# 9;10 * 10\n",
    "X_train,X_test,Y_train,Y_test = train_test_split(X,Y,test_size=0.15)"
   ]
  },
  {
   "cell_type": "code",
   "execution_count": 11,
   "metadata": {
    "_cell_guid": "811d9d63-aa94-447a-b532-7fb7fe3f0cff",
    "_uuid": "5f4b8646b4358f91ef877e7c65146133c70dfcbb"
   },
   "outputs": [],
   "source": [
    "def tokenizeMessages(messages):\n",
    "    #TOKENIZING THE TEXT\n",
    "    regexTokenizer = RegexpTokenizer(r'\\w+')\n",
    "    messages = messages.apply(regexTokenizer.tokenize)\n",
    "    # delete Stop Words\n",
    "    messages = messages.apply(lambda vec: [word for word in vec if word not in stopwords0])\n",
    "    return messages\n",
    "\n",
    "train_tokens = tokenizeMessages(X_train)\n",
    "# test_tokens = tokenizeMessages(X_test)\n"
   ]
  },
  {
   "cell_type": "code",
   "execution_count": 12,
   "metadata": {
    "_cell_guid": "495c41d0-2afc-479c-b733-bb69206c4f70",
    "_uuid": "1273ae2dc9b3840eb073a70f2264ec7458d22baf"
   },
   "outputs": [
    {
     "name": "stdout",
     "output_type": "stream",
     "text": [
      "70882 words total, with a vocabulary size of 12518\n",
      "Max sentence length is 22\n"
     ]
    }
   ],
   "source": [
    "alltrainingwords = [word for tokens in train_tokens for word in tokens]\n",
    "trainingsentencelengths = [len(tokens) for tokens in train_tokens]\n",
    "TRAININGVOCAB = sorted(list(set(alltrainingwords)))\n",
    "\n",
    "print(\"%s words total, with a vocabulary size of %s\" % (len(alltrainingwords), len(TRAININGVOCAB)))\n",
    "print(\"Max sentence length is %s\" % max(trainingsentencelengths))"
   ]
  },
  {
   "cell_type": "code",
   "execution_count": 13,
   "metadata": {
    "_cell_guid": "f23d823d-ec6c-49a2-ba86-50b15d4a4593",
    "_uuid": "87f59235841f6549e372b74cc484ace578293441"
   },
   "outputs": [
    {
     "name": "stdout",
     "output_type": "stream",
     "text": [
      "Loading W2V\n",
      "W2V Loaded\n"
     ]
    }
   ],
   "source": [
    "#WORD2VEC\n",
    "word2vecpath = \"./GoogleNews-vectors-negative300.bin.gz\"\n",
    "\n",
    "print(\"Loading W2V\")\n",
    "word2vec = gensim.models.KeyedVectors.load_word2vec_format(word2vecpath, binary=True)\n",
    "print(\"W2V Loaded\")\n",
    "\n",
    "def getaverageword2vec(tokenslist, vector, generatemissing=False, k=300):\n",
    "    if len(tokenslist)<1:\n",
    "        return np.zeros(k)\n",
    "    if generatemissing:\n",
    "        vectorized = [vector[word] if word in vector else np.random.rand(k) for word in tokenslist]\n",
    "    else:\n",
    "        vectorized = [vector[word] if word in vector else np.zeros(k) for word in tokenslist]\n",
    "    length = len(vectorized)\n",
    "    summed = np.sum(vectorized, axis=0)\n",
    "    averaged = np.divide(summed, length)\n",
    "    return averaged\n",
    "\n",
    "#GETTING EMBEDDINGS\n",
    "def getword2vecembeddings(vectors, messages, generatemissing=False):\n",
    "    embeddings = messages.apply(lambda x: getaverageword2vec(x, vectors,\n",
    "                                                                          generatemissing=generatemissing))\n",
    "    return list(embeddings)"
   ]
  },
  {
   "cell_type": "code",
   "execution_count": 14,
   "metadata": {
    "_cell_guid": "b3595e29-0db7-4cc6-bd77-b6a8eb5214e7",
    "_uuid": "d342e226c056fbed5d4bdd5ac07068f6fc527362"
   },
   "outputs": [
    {
     "name": "stdout",
     "output_type": "stream",
     "text": [
      "Found 13471 unique tokens.\n",
      "(13472, 300)\n"
     ]
    }
   ],
   "source": [
    "#TRAIN EMBEDDING\n",
    "trainingembeddings = getword2vecembeddings(word2vec, X_train, generatemissing=True)\n",
    "tokenizer = Tokenizer(num_words=MAXVOCABSIZE, lower=True, char_level=False)\n",
    "tokenizer.fit_on_texts(X_train)\n",
    "trainingsequences = tokenizer.texts_to_sequences(X_train)\n",
    "\n",
    "trainwordindex = tokenizer.word_index\n",
    "print('Found %s unique tokens.' % len(trainwordindex))\n",
    "\n",
    "traincnndata = pad_sequences(trainingsequences, maxlen=MAXSEQLENGTH)\n",
    "\n",
    "trainembeddingweights = np.zeros((len(trainwordindex)+1, EMBEDDINGDIM))\n",
    "for word,index in trainwordindex.items():\n",
    "    trainembeddingweights[index,:] = word2vec[word] if word in word2vec else np.random.rand(EMBEDDINGDIM)\n",
    "print(trainembeddingweights.shape)"
   ]
  },
  {
   "cell_type": "code",
   "execution_count": 50,
   "metadata": {
    "_cell_guid": "e9d59cc2-5bdd-4899-9a7c-3cabf46dcb56",
    "_uuid": "f52236073f542da9a7225ca82835c4f168e450ab"
   },
   "outputs": [
    {
     "name": "stdout",
     "output_type": "stream",
     "text": [
      "[[    0     0     0 ...    18  3130     1]\n",
      " [    0     0     0 ...     0   604  3309]\n",
      " [    0     0     0 ...    37   197   403]\n",
      " ...\n",
      " [    0     0     0 ...    43 10970   476]\n",
      " [    0     0     0 ...   392    19     1]\n",
      " [    0     0     0 ...    40    59     1]]\n"
     ]
    }
   ],
   "source": [
    "testsequences = tokenizer.texts_to_sequences(X_test)\n",
    "testcnndata = pad_sequences(testsequences, maxlen=MAXSEQLENGTH)"
   ]
  },
  {
   "cell_type": "code",
   "execution_count": 16,
   "metadata": {
    "_cell_guid": "dca2a8d0-bf4b-4d5f-873d-60abe362cabc",
    "_uuid": "f0a5a6760bc4123971b1047a453bb98bc96fd1d9"
   },
   "outputs": [],
   "source": [
    "#DEFINING THE CNN\n",
    "def ConvNet(embeddings, max_sequence_length, num_words, embedding_dim, trainable=False, extra_conv=True):\n",
    "    \n",
    "    embedding_layer = Embedding(num_words,\n",
    "                            embedding_dim,\n",
    "                            weights=[embeddings],\n",
    "                            input_length=max_sequence_length,\n",
    "                            trainable=trainable)\n",
    "\n",
    "    sequence_input = Input(shape=(max_sequence_length,), dtype='int32')\n",
    "    embedded_sequences = embedding_layer(sequence_input)\n",
    "\n",
    "    # Yoon Kim model (https://arxiv.org/abs/1408.5882)\n",
    "    convs = []\n",
    "    filter_sizes = [3,4,5]\n",
    "\n",
    "    for filter_size in filter_sizes:\n",
    "        l_conv = Conv1D(filters=128, kernel_size=filter_size, activation='relu')(embedded_sequences)\n",
    "        l_pool = MaxPooling1D(pool_size=3)(l_conv)\n",
    "        convs.append(l_pool)\n",
    "\n",
    "    l_merge = Concatenate(axis=1)(convs)\n",
    "\n",
    "    # add a 1D convnet with global maxpooling, instead of Yoon Kim model\n",
    "    conv = Conv1D(filters=128, kernel_size=3, activation='relu')(embedded_sequences)\n",
    "    pool = MaxPooling1D(pool_size=3)(conv)\n",
    "\n",
    "    if extra_conv==True:\n",
    "        x = Dropout(0.5)(l_merge)  \n",
    "    else:\n",
    "        # Original Yoon Kim model\n",
    "        x = Dropout(0.5)(pool)\n",
    "    x = Flatten()(x)\n",
    "    x = Dense(128, activation='relu')(x)\n",
    "    x = Dropout(0.5)(x)\n",
    "    # Finally, we feed the output into a Sigmoid layer.\n",
    "    # The reason why sigmoid is used is because we are trying to achieve a binary classification(1,0) \n",
    "    # for each of the 6 labels, and the sigmoid function will squash the output between the bounds of 0 and 1.\n",
    "    preds = Dense(1, activation='sigmoid')(x)\n",
    "\n",
    "    model = Model(sequence_input, preds)\n",
    "    model.compile(loss='binary_crossentropy',\n",
    "                  optimizer='adam',\n",
    "                  metrics=['acc'])\n",
    "    model.summary()\n",
    "    return model"
   ]
  },
  {
   "cell_type": "code",
   "execution_count": 19,
   "metadata": {
    "_cell_guid": "a97112a8-7502-4dd1-b012-3594eaea2c6b",
    "_uuid": "f17a51cf41ebc2c2ab966b7b41847b2e53da996d"
   },
   "outputs": [
    {
     "name": "stdout",
     "output_type": "stream",
     "text": [
      "WARNING:tensorflow:From /Users/jonathanl/PycharmProjects/trollaganda/venv/lib/python3.6/site-packages/tensorflow/python/framework/op_def_library.py:263: colocate_with (from tensorflow.python.framework.ops) is deprecated and will be removed in a future version.\n",
      "Instructions for updating:\n",
      "Colocations handled automatically by placer.\n",
      "WARNING:tensorflow:From /Users/jonathanl/PycharmProjects/trollaganda/venv/lib/python3.6/site-packages/keras/backend/tensorflow_backend.py:3445: calling dropout (from tensorflow.python.ops.nn_ops) with keep_prob is deprecated and will be removed in a future version.\n",
      "Instructions for updating:\n",
      "Please use `rate` instead of `keep_prob`. Rate should be set to `rate = 1 - keep_prob`.\n",
      "__________________________________________________________________________________________________\n",
      "Layer (type)                    Output Shape         Param #     Connected to                     \n",
      "==================================================================================================\n",
      "input_1 (InputLayer)            (None, 200)          0                                            \n",
      "__________________________________________________________________________________________________\n",
      "embedding_1 (Embedding)         (None, 200, 300)     4041600     input_1[0][0]                    \n",
      "__________________________________________________________________________________________________\n",
      "conv1d_1 (Conv1D)               (None, 198, 128)     115328      embedding_1[0][0]                \n",
      "__________________________________________________________________________________________________\n",
      "conv1d_2 (Conv1D)               (None, 197, 128)     153728      embedding_1[0][0]                \n",
      "__________________________________________________________________________________________________\n",
      "conv1d_3 (Conv1D)               (None, 196, 128)     192128      embedding_1[0][0]                \n",
      "__________________________________________________________________________________________________\n",
      "max_pooling1d_1 (MaxPooling1D)  (None, 66, 128)      0           conv1d_1[0][0]                   \n",
      "__________________________________________________________________________________________________\n",
      "max_pooling1d_2 (MaxPooling1D)  (None, 65, 128)      0           conv1d_2[0][0]                   \n",
      "__________________________________________________________________________________________________\n",
      "max_pooling1d_3 (MaxPooling1D)  (None, 65, 128)      0           conv1d_3[0][0]                   \n",
      "__________________________________________________________________________________________________\n",
      "concatenate_1 (Concatenate)     (None, 196, 128)     0           max_pooling1d_1[0][0]            \n",
      "                                                                 max_pooling1d_2[0][0]            \n",
      "                                                                 max_pooling1d_3[0][0]            \n",
      "__________________________________________________________________________________________________\n",
      "dropout_1 (Dropout)             (None, 196, 128)     0           concatenate_1[0][0]              \n",
      "__________________________________________________________________________________________________\n",
      "flatten_1 (Flatten)             (None, 25088)        0           dropout_1[0][0]                  \n",
      "__________________________________________________________________________________________________\n",
      "dense_1 (Dense)                 (None, 128)          3211392     flatten_1[0][0]                  \n",
      "__________________________________________________________________________________________________\n",
      "dropout_2 (Dropout)             (None, 128)          0           dense_1[0][0]                    \n",
      "__________________________________________________________________________________________________\n",
      "dense_2 (Dense)                 (None, 1)            129         dropout_2[0][0]                  \n",
      "==================================================================================================\n",
      "Total params: 7,714,305\n",
      "Trainable params: 3,672,705\n",
      "Non-trainable params: 4,041,600\n",
      "__________________________________________________________________________________________________\n"
     ]
    }
   ],
   "source": [
    "model = ConvNet(trainembeddingweights, MAXSEQLENGTH, len(trainwordindex)+1, EMBEDDINGDIM, False)"
   ]
  },
  {
   "cell_type": "code",
   "execution_count": 20,
   "metadata": {
    "_cell_guid": "88718843-bb8a-400a-8cfd-4ff4948580ca",
    "_uuid": "fe710bb2fc540742c06edabd2287068b469a6169"
   },
   "outputs": [],
   "source": [
    "#DEFINING CALLBACKS\n",
    "earlystopping = EarlyStopping(monitor='val_loss', min_delta=0.01, patience=4, verbose=1)\n",
    "callbackslist = [earlystopping]"
   ]
  },
  {
   "cell_type": "code",
   "execution_count": 21,
   "metadata": {
    "_cell_guid": "73063c77-cdf5-471c-8d56-a54bf439d886",
    "_uuid": "ba2258b0f57bf11c2f666c4a56c7cb3891cdbee8"
   },
   "outputs": [
    {
     "name": "stdout",
     "output_type": "stream",
     "text": [
      "Training the Model\n",
      "WARNING:tensorflow:From /Users/jonathanl/PycharmProjects/trollaganda/venv/lib/python3.6/site-packages/tensorflow/python/ops/math_ops.py:3066: to_int32 (from tensorflow.python.ops.math_ops) is deprecated and will be removed in a future version.\n",
      "Instructions for updating:\n",
      "Use tf.cast instead.\n",
      "Train on 7650 samples, validate on 850 samples\n",
      "Epoch 1/3\n",
      "7650/7650 [==============================] - 31s 4ms/step - loss: 0.4490 - acc: 0.8007 - val_loss: 0.3443 - val_acc: 0.8153\n",
      "Epoch 2/3\n",
      "7650/7650 [==============================] - 30s 4ms/step - loss: 0.3328 - acc: 0.8263 - val_loss: 0.2897 - val_acc: 0.8835\n",
      "Epoch 3/3\n",
      "7650/7650 [==============================] - 30s 4ms/step - loss: 0.2976 - acc: 0.8627 - val_loss: 0.2890 - val_acc: 0.8718\n"
     ]
    }
   ],
   "source": [
    "#USING PREMADE NETWORK\n",
    "if FROM_JSON:\n",
    "    json_file = open('./model.json', 'r')\n",
    "    loaded_model_json = json_file.read()\n",
    "    json_file.close()\n",
    "    loaded_model = model_from_json(loaded_model_json)\n",
    "    loaded_model.load_weights('./model.h5')\n",
    "    loaded_model.compile(loss='binary_crossentropy',\n",
    "                  optimizer='adam',\n",
    "                  metrics=['acc'])\n",
    "    model = loaded_model\n",
    "    print(\"Loaded Model from disk\")\n",
    "else:\n",
    "    #TRAINING THE NETWORK\n",
    "    print(\"Training the Model\")\n",
    "    hist = model.fit(traincnndata, Y_train, epochs=epochs, callbacks=callbackslist, validation_split=0.1, shuffle=True, batch_size=batchsize)"
   ]
  },
  {
   "cell_type": "code",
   "execution_count": 22,
   "metadata": {
    "_cell_guid": "9d530456-c94b-4255-9ccc-0314e6d333a4",
    "_uuid": "6738aa50eb235b3bf8ae51cea4311efc9690feb3"
   },
   "outputs": [
    {
     "name": "stdout",
     "output_type": "stream",
     "text": [
      "1500/1500 [==============================] - 4s 3ms/step\n",
      "1500/1500 [==============================] - 2s 2ms/step\n",
      "Test set\n",
      "  Loss: 0.310\n",
      "  Accuracy: 0.869\n"
     ]
    }
   ],
   "source": [
    "ytest = model.predict(testcnndata, batch_size=1024, verbose=1)\n",
    "yresults = model.evaluate(testcnndata, Y_test)\n",
    "\n",
    "print('Test set\\n  Loss: {:0.3f}\\n  Accuracy: {:0.3f}'.format(yresults[0],yresults[1]))"
   ]
  },
  {
   "cell_type": "code",
   "execution_count": 21,
   "metadata": {
    "_cell_guid": "44976f8e-e1d7-4bb5-b815-34ac33d0dcf1",
    "_uuid": "d50b4877cc148ad31b31d6355d0d9d315c60e390"
   },
   "outputs": [],
   "source": [
    "#CREATING THE SUBMISSION.CSV FILE\n",
    "# submissiondf = pd.DataFrame(columns=['id'] + labelnames)\n",
    "# submissiondf['id'] = testcomments['id'].values \n",
    "# submissiondf[labelnames] = ytest \n",
    "# submissiondf.to_csv(\"./cnn_submission.csv\", index=False)"
   ]
  },
  {
   "cell_type": "code",
   "execution_count": 23,
   "metadata": {
    "_cell_guid": "2c0f0ac9-642a-45cf-bada-2735d8a1a457",
    "_uuid": "3afe119dd9db5940bda4c7c31e093629518b1c97"
   },
   "outputs": [
    {
     "data": {
      "image/png": "[encoded data removed]",
      "text/plain": [
       "<Figure size 432x288 with 1 Axes>"
      ]
     },
     "metadata": {
      "needs_background": "light"
     },
     "output_type": "display_data"
    }
   ],
   "source": [
    "#GENERATING THE GRAPHS\n",
    "plt.figure()\n",
    "plt.plot(hist.history['loss'], lw=2.0, color='b', label='train')\n",
    "plt.plot(hist.history['val_loss'], lw=2.0, color='r', label='val')\n",
    "plt.title('CNN sentiment')\n",
    "plt.xlabel('Epochs')\n",
    "plt.ylabel('Cross-Entropy Loss')\n",
    "plt.legend(loc='upper right')\n",
    "plt.show()"
   ]
  },
  {
   "cell_type": "code",
   "execution_count": 24,
   "metadata": {
    "_cell_guid": "8eefaa45-ad86-4458-8218-e258572f4c48",
    "_uuid": "341a0047130d5f90add22851e6d42f64d4a23edd"
   },
   "outputs": [
    {
     "data": {
      "image/png": "[encoded data removed]",
      "text/plain": [
       "<Figure size 432x288 with 1 Axes>"
      ]
     },
     "metadata": {
      "needs_background": "light"
     },
     "output_type": "display_data"
    }
   ],
   "source": [
    "plt.figure()\n",
    "plt.plot(hist.history['acc'], lw=2.0, color='b', label='train')\n",
    "plt.plot(hist.history['val_acc'], lw=2.0, color='r', label='val')\n",
    "plt.title('CNN sentiment')\n",
    "plt.xlabel('Epochs')\n",
    "plt.ylabel('Accuracy')\n",
    "plt.legend(loc='upper left')\n",
    "plt.show()"
   ]
  },
  {
   "cell_type": "code",
   "execution_count": 24,
   "metadata": {
    "_uuid": "535abeb5ec4d6e4ad4a51f0d052a5cad107a12df"
   },
   "outputs": [
    {
     "data": {
      "image/png": "[encoded data removed]",
      "text/plain": [
       "<Figure size 432x288 with 1 Axes>"
      ]
     },
     "metadata": {
      "needs_background": "light"
     },
     "output_type": "display_data"
    }
   ],
   "source": [
    "history_dict = hist.history\n",
    "\n",
    "acc = history_dict['acc']\n",
    "val_acc = history_dict['val_acc']\n",
    "loss = history_dict['loss']\n",
    "val_loss = history_dict['val_loss']\n",
    "\n",
    "epochs = range(1, len(acc) + 1)\n",
    "\n",
    "\n",
    "plt.clf() # clear figure\n",
    "\n",
    "plt.plot(epochs, acc, 'bo', label='Training acc')\n",
    "plt.plot(epochs, val_acc, 'b', label='Validation acc')\n",
    "plt.title('Training and validation accuracy')\n",
    "plt.xlabel('Epochs')\n",
    "plt.ylabel('Accuracy')\n",
    "plt.legend()\n",
    "\n",
    "plt.show()"
   ]
  },
  {
   "cell_type": "code",
   "execution_count": 25,
   "metadata": {},
   "outputs": [
    {
     "name": "stdout",
     "output_type": "stream",
     "text": [
      "Saving Model to ./model.json, weights to ./model.h5\n",
      "Model Saved\n"
     ]
    }
   ],
   "source": [
    "#Saving Model\n",
    "\n",
    "print(\"Saving Model to ./model.json, weights to ./model.h5\")\n",
    "model_json = model.to_json()\n",
    "\n",
    "with open('./model.json', \"w\") as json_file:\n",
    "    json_file.write(model_json)\n",
    "\n",
    "model.save_weights('./model.h5')\n",
    "print(\"Model Saved\")"
   ]
  },
  {
   "cell_type": "code",
   "execution_count": 76,
   "metadata": {},
   "outputs": [
    {
     "name": "stdout",
     "output_type": "stream",
     "text": [
      "Message: [Some message @ https://google.com where @liran23 said he wants to read it], Prediction: [Troll]\n",
      "Message: [Yossi is the man and he loves to post links online], Prediction: [Troll]\n"
     ]
    }
   ],
   "source": [
    "# Prediction\n",
    "\n",
    "\n",
    "def tokenizePredictions(messages):\n",
    "    series = pd.Series(messages)\n",
    "    series = series.astype(str)\n",
    "    standardizeText(series)\n",
    "    tokenized = tokenizeMessages(series)\n",
    "    \n",
    "    predictSequences = tokenizer.texts_to_sequences(tokenized)\n",
    "    predictData = pad_sequences(predictSequences, maxlen=MAXSEQLENGTH)\n",
    "\n",
    "    return predictData\n",
    "\n",
    "def predictTrollOrNot(model, messages):\n",
    "    data = tokenizePredictions(messages)\n",
    "    predictions = model.predict(data)\n",
    "\n",
    "    for i in range(len(messages)):\n",
    "        print(\"Message: [%s], Prediction: [%s]\" % (messages[i], \"Troll\" if predictions[i] > 0.5 else \"Not a Troll\"))\n",
    "    \n",
    "    \n",
    "\n",
    "predictTrollOrNot(model, [\"Some message @ https://google.com where @liran23 said he wants to read it\", \"Yossi is the man and he loves to post links online\"])"
   ]
  },
  {
   "cell_type": "code",
   "execution_count": null,
   "metadata": {},
   "outputs": [],
   "source": []
  },
  {
   "cell_type": "code",
   "execution_count": null,
   "metadata": {},
   "outputs": [],
   "source": []
  }
 ],
 "metadata": {
  "kernelspec": {
   "display_name": "Python 3",
   "language": "python",
   "name": "python3"
  },
  "language_info": {
   "codemirror_mode": {
    "name": "ipython",
    "version": 3
   },
   "file_extension": ".py",
   "mimetype": "text/x-python",
   "name": "python",
   "nbconvert_exporter": "python",
   "pygments_lexer": "ipython3",
   "version": "3.6.5"
  }
 },
 "nbformat": 4,
 "nbformat_minor": 1
}
